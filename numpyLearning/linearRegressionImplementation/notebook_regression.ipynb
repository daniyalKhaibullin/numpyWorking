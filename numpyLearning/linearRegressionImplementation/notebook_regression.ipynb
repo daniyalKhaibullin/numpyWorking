{
 "cells": [
  {
   "cell_type": "markdown",
   "id": "c096d68d-e573-499e-a09a-2b52d0c08fdf",
   "metadata": {},
   "source": [
    "# Linear Regression\n",
    "Linear Regression is a fundamental statistical method used for modeling the relationship between \n",
    "a dependent variable and one or more indpendent variables. In simple linear regression, there is only\n",
    "one independent variable. It's commonly used for prediction and forecasting. For example,\n",
    "\n",
    "it can be used to predict sales based on advertising expenditure, predict house prices based on features like\n",
    "square footage and number of bedrooms, etc."
   ]
  },
  {
   "cell_type": "code",
   "execution_count": 4,
   "id": "27d5f421-6d6a-4e2a-9ddf-e853811d24ba",
   "metadata": {},
   "outputs": [],
   "source": [
    "import numpy as np\n",
    "import matplotlib.pyplot as plt"
   ]
  },
  {
   "cell_type": "markdown",
   "id": "981f0573-8ce3-42b3-93b5-998b15936753",
   "metadata": {},
   "source": [
    "Step-by-step tasks:\n",
    "\n",
    "1. Generate synthetic data: Create synthetic data points X and corresponding y values.\n",
    "2. Initialize parameters: Initialize the slope m and intercept b with random values.\n",
    "3. Define the cost function: Implement mean squared error (MSE) as the cost function.\n",
    "4. Implement gradient descent: Update parameters using the gradient descent algorithm to minimize the cost function.\n",
    "5. Iterate until convergence: Repeat the gradient descent steps until the change in cost function becomes negligible.\n"
   ]
  },
  {
   "cell_type": "code",
   "execution_count": 5,
   "id": "45f54d0b-ec67-44ba-905e-f59188766913",
   "metadata": {},
   "outputs": [],
   "source": [
    "def mean_squared_error(y_true, y_pred):\n",
    "\treturn np.mean((y_true - y_pred) ** 2)"
   ]
  },
  {
   "cell_type": "markdown",
   "id": "3bc2043c-e369-4798-8550-793c4737dcf4",
   "metadata": {},
   "source": [
    "## Cost Function: Mean Squared Error (MSE)\n",
    "\n",
    "The Mean Squared Error (MSE) is a commonly used cost function for linear regression. It calculates the average squared difference between the actual and predicted values. The formula for MSE is given by:\n",
    "\n",
    "\\[ MSE = \\frac{1}{n} \\sum_{i=1}^{n} (y_i - \\hat{y}_i)^2 \\]\n",
    "\n",
    "Where:\n",
    "- \\( n \\) is the number of data points.\n",
    "- \\( y_i \\) is the actual value of the target variable for the \\( i \\)th data point.\n",
    "- \\( \\hat{y}_i \\) is the predicted value of the target variable for the \\( i \\)th data point.\n",
    "\n",
    "In other words, MSE is the average of the squares of the differences between the actual and predicted values.\n"
   ]
  },
  {
   "cell_type": "markdown",
   "id": "07974623-27d3-4eb7-8b05-8ed6aeec92fc",
   "metadata": {},
   "source": [
    "# creating synthetic noise"
   ]
  },
  {
   "cell_type": "code",
   "execution_count": 6,
   "id": "6d7efc15-959a-4c70-b0d1-eee3f3f6c0ab",
   "metadata": {},
   "outputs": [
    {
     "name": "stdout",
     "output_type": "stream",
     "text": [
      "[[0.88754013]\n",
      " [0.1385528 ]\n",
      " [0.99901878]\n",
      " [0.14083814]\n",
      " [0.410837  ]\n",
      " [0.36507755]\n",
      " [0.38715789]\n",
      " [0.28411985]\n",
      " [0.85101907]\n",
      " [0.30869368]\n",
      " [0.85418512]\n",
      " [0.07336344]\n",
      " [0.89396635]\n",
      " [0.81936575]\n",
      " [0.80683764]\n",
      " [0.3768493 ]\n",
      " [0.64221886]\n",
      " [0.57180565]\n",
      " [0.47856125]\n",
      " [0.09104457]\n",
      " [0.12591521]\n",
      " [0.91681395]\n",
      " [0.13201681]\n",
      " [0.43693249]\n",
      " [0.27471488]\n",
      " [0.53905898]\n",
      " [0.31416629]\n",
      " [0.52851655]\n",
      " [0.53716916]\n",
      " [0.89201896]\n",
      " [0.86304521]\n",
      " [0.64477947]\n",
      " [0.25662525]\n",
      " [0.31356617]\n",
      " [0.50676774]\n",
      " [0.28042765]\n",
      " [0.02627695]\n",
      " [0.36594485]\n",
      " [0.08549326]\n",
      " [0.61364065]\n",
      " [0.95766139]\n",
      " [0.48469235]\n",
      " [0.65383978]\n",
      " [0.45493149]\n",
      " [0.37278448]\n",
      " [0.57428274]\n",
      " [0.49466711]\n",
      " [0.84248034]\n",
      " [0.17846824]\n",
      " [0.41447617]\n",
      " [0.57331239]\n",
      " [0.17557196]\n",
      " [0.29891492]\n",
      " [0.33508092]\n",
      " [0.432475  ]\n",
      " [0.74803406]\n",
      " [0.98694278]\n",
      " [0.91370509]\n",
      " [0.76816217]\n",
      " [0.05964995]\n",
      " [0.02118249]\n",
      " [0.47409307]\n",
      " [0.9386616 ]\n",
      " [0.73329735]\n",
      " [0.08341676]\n",
      " [0.88735831]\n",
      " [0.11238728]\n",
      " [0.0761548 ]\n",
      " [0.28611352]\n",
      " [0.87291824]\n",
      " [0.61329921]\n",
      " [0.95910563]\n",
      " [0.43620214]\n",
      " [0.85633237]\n",
      " [0.09044755]\n",
      " [0.63560181]\n",
      " [0.3446065 ]\n",
      " [0.6557976 ]\n",
      " [0.12610744]\n",
      " [0.93901475]\n",
      " [0.68558458]\n",
      " [0.24162595]\n",
      " [0.6666    ]\n",
      " [0.16463689]\n",
      " [0.34123305]\n",
      " [0.85740247]\n",
      " [0.33162531]\n",
      " [0.6520094 ]\n",
      " [0.05362729]\n",
      " [0.33619131]\n",
      " [0.16108532]\n",
      " [0.48998022]\n",
      " [0.58035448]\n",
      " [0.77764692]\n",
      " [0.11748218]\n",
      " [0.36075893]\n",
      " [0.1334611 ]\n",
      " [0.80551119]\n",
      " [0.40724082]\n",
      " [0.37624144]]\n"
     ]
    }
   ],
   "source": [
    "num_samples = 100\n",
    "x = np.random.rand(num_samples, 1)\n",
    "epsilon = np.random.randn(num_samples, 1)\n",
    "y = 2 * x + epsilon\n",
    "print(x)"
   ]
  },
  {
   "cell_type": "markdown",
   "id": "9598622f-59a6-463a-8139-bcbb96ea756f",
   "metadata": {},
   "source": [
    "# initialize parameters\n",
    "slope and y-intercept with random values"
   ]
  },
  {
   "cell_type": "code",
   "execution_count": 7,
   "id": "842a2b2c-f91d-4da4-a62f-7b1571d5ecd4",
   "metadata": {},
   "outputs": [
    {
     "name": "stdout",
     "output_type": "stream",
     "text": [
      "Iteration 0: Cost = 3.8619832204869082\n",
      "Iteration 100: Cost = 1.1490799043771103\n",
      "Iteration 200: Cost = 1.091956513889367\n",
      "Iteration 300: Cost = 1.0606998088931565\n",
      "Iteration 400: Cost = 1.036655069863819\n",
      "Iteration 500: Cost = 1.018096555285241\n",
      "Iteration 600: Cost = 1.003772097766597\n",
      "Iteration 700: Cost = 0.9927157102550217\n",
      "Iteration 800: Cost = 0.9841817951054346\n",
      "Iteration 900: Cost = 0.9775948599328764\n"
     ]
    }
   ],
   "source": [
    "m = np.random.randn()\n",
    "b = np.random.randn()\n",
    "\n",
    "#define the cost function: (mean squared error)\n",
    "learning_rate = 0.01\n",
    "num_iterations = 1000\n",
    "cost_history = []\n",
    "\n",
    "for i in range(num_iterations):\n",
    "\t#calculate predictions\n",
    "\ty_pred = m*x + b\n",
    "\t#calculate gradients\n",
    "\td_m = (-2/num_samples) * np.sum(x * (y - y_pred)) \n",
    "\td_b = (-2/num_samples) * np.sum(y-y_pred)\n",
    "\n",
    "\t#update parameters using gradients\n",
    "\tm -= learning_rate * d_m \n",
    "\tb -= learning_rate * d_b\n",
    "\n",
    "\t#calculate and record cost\n",
    "\tcost = mean_squared_error(y, y_pred) \n",
    "\tcost_history.append(cost) \n",
    "\t\n",
    "\t#print progress\n",
    "\tif i % 100 == 0:\n",
    "\t\tprint(f\"Iteration {i}: Cost = {cost}\")"
   ]
  },
  {
   "cell_type": "markdown",
   "id": "5f6ce314-9273-43d5-a832-e1a99b908b27",
   "metadata": {},
   "source": [
    "# plotting the data and linear regression line"
   ]
  },
  {
   "cell_type": "markdown",
   "id": "d596dfc4-3129-443f-bdfb-7543e9560f2d",
   "metadata": {},
   "source": [
    "Gradient descent is an optimization algorithm used to minimize the cost function. It iteratively updates the \n",
    "parameters (slope and intercept in this case) in the direction of the steepest descent of the cost function\n",
    "until convergence."
   ]
  },
  {
   "cell_type": "code",
   "execution_count": 9,
   "id": "95dfe557-16d2-4f2f-a925-849b6db1fe15",
   "metadata": {},
   "outputs": [
    {
     "data": {
      "image/png": "[encoded data removed]",
      "text/plain": [
       "<Figure size 640x480 with 1 Axes>"
      ]
     },
     "metadata": {},
     "output_type": "display_data"
    },
    {
     "name": "stdout",
     "output_type": "stream",
     "text": [
      "Final parameters:\n",
      "Slope (m): 1.5402639440151262\n",
      "Intercept (b): 0.11210845995214348\n",
      "Final cost: 0.9725553088087057\n"
     ]
    }
   ],
   "source": [
    "plt.scatter(x, y, label=\"Data\")\n",
    "plt.plot(x, m*x+b, color = \"red\", label = \"Regression line\")\n",
    "plt.xlabel(\"x\")\n",
    "plt.ylabel(\"y\")\n",
    "plt.title(\"Simple Linear Regression\")\n",
    "plt.legend()\n",
    "plt.show()\n",
    "\n",
    "print(\"Final parameters:\")\n",
    "print(\"Slope (m):\", m)\n",
    "print(\"Intercept (b):\", b)\n",
    "print(\"Final cost:\", cost_history[-1])"
   ]
  }
 ],
 "metadata": {
  "kernelspec": {
   "display_name": "Python 3 (ipykernel)",
   "language": "python",
   "name": "python3"
  },
  "language_info": {
   "codemirror_mode": {
    "name": "ipython",
    "version": 3
   },
   "file_extension": ".py",
   "mimetype": "text/x-python",
   "name": "python",
   "nbconvert_exporter": "python",
   "pygments_lexer": "ipython3",
   "version": "3.11.4"
  }
 },
 "nbformat": 4,
 "nbformat_minor": 5
}
